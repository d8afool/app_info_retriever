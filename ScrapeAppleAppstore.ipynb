{
 "cells": [
  {
   "cell_type": "code",
   "execution_count": 1,
   "id": "2615b29c-3aa5-4062-a51b-938320410aed",
   "metadata": {},
   "outputs": [],
   "source": [
    "import sys, os\n",
    "from pprint import pprint\n",
    "\n",
    "from app_store_scraper import AppStore, Podcast\n",
    "import numpy as np\n",
    "import pandas as pd\n",
    "import serpapi\n",
    "import json"
   ]
  },
  {
   "cell_type": "code",
   "execution_count": null,
   "id": "e7c6a036-28bd-48d2-8cbc-55d7e6335988",
   "metadata": {},
   "outputs": [],
   "source": [
    "minecraft = AppStore(country=\"nz\", app_name=\"minecraft\")\n",
    "minecraft.review(how_many=20)\n",
    "\n",
    "pprint(minecraft.reviews)\n",
    "pprint(minecraft.reviews_count)"
   ]
  },
  {
   "cell_type": "code",
   "execution_count": 10,
   "id": "b0b81e62-e257-40de-9698-962affe48917",
   "metadata": {},
   "outputs": [
    {
     "name": "stderr",
     "output_type": "stream",
     "text": [
      "2023-12-23 22:54:01,167 [INFO] Base - Initialised: AppStore('us', 'slack', 618783545)\n",
      "2023-12-23 22:54:01,168 [INFO] Base - Ready to fetch reviews from: https://apps.apple.com/us/app/slack/id618783545\n",
      "2023-12-23 22:54:06,230 [INFO] Base - [id:618783545] Fetched 360 reviews (360 fetched in total)\n",
      "2023-12-23 22:54:11,753 [INFO] Base - [id:618783545] Fetched 760 reviews (760 fetched in total)\n",
      "2023-12-23 22:54:17,090 [INFO] Base - [id:618783545] Fetched 1120 reviews (1120 fetched in total)\n",
      "2023-12-23 22:54:22,393 [INFO] Base - [id:618783545] Fetched 1500 reviews (1500 fetched in total)\n",
      "2023-12-23 22:54:27,874 [INFO] Base - [id:618783545] Fetched 1900 reviews (1900 fetched in total)\n",
      "2023-12-23 22:54:29,248 [INFO] Base - [id:618783545] Fetched 2000 reviews (2000 fetched in total)\n"
     ]
    }
   ],
   "source": [
    "slack = AppStore(country='us', app_name='slack', app_id = '618783545')\n",
    "\n",
    "slack.review(how_many=2000)"
   ]
  },
  {
   "cell_type": "code",
   "execution_count": 19,
   "id": "ddd9f7dd-8f06-4360-ba80-b3b257d34d48",
   "metadata": {},
   "outputs": [
    {
     "data": {
      "text/html": [
       "<div>\n",
       "<style scoped>\n",
       "    .dataframe tbody tr th:only-of-type {\n",
       "        vertical-align: middle;\n",
       "    }\n",
       "\n",
       "    .dataframe tbody tr th {\n",
       "        vertical-align: top;\n",
       "    }\n",
       "\n",
       "    .dataframe thead th {\n",
       "        text-align: right;\n",
       "    }\n",
       "</style>\n",
       "<table border=\"1\" class=\"dataframe\">\n",
       "  <thead>\n",
       "    <tr style=\"text-align: right;\">\n",
       "      <th></th>\n",
       "      <th>date</th>\n",
       "      <th>developerResponse</th>\n",
       "      <th>review</th>\n",
       "      <th>rating</th>\n",
       "      <th>isEdited</th>\n",
       "      <th>userName</th>\n",
       "      <th>title</th>\n",
       "    </tr>\n",
       "  </thead>\n",
       "  <tbody>\n",
       "    <tr>\n",
       "      <th>0</th>\n",
       "      <td>2021-11-19 15:37:47</td>\n",
       "      <td>{'id': 26382584, 'body': 'Hey there, thank you...</td>\n",
       "      <td>The app is easy to learn and has become an int...</td>\n",
       "      <td>4</td>\n",
       "      <td>False</td>\n",
       "      <td>Hippiegal23</td>\n",
       "      <td>A few months in. Mostly good.</td>\n",
       "    </tr>\n",
       "    <tr>\n",
       "      <th>1</th>\n",
       "      <td>2022-04-14 14:50:10</td>\n",
       "      <td>NaN</td>\n",
       "      <td>The recent iPad App update misses the mark qui...</td>\n",
       "      <td>2</td>\n",
       "      <td>False</td>\n",
       "      <td>RufHaus71</td>\n",
       "      <td>One Step Forward, Two Steps Back for iPad</td>\n",
       "    </tr>\n",
       "    <tr>\n",
       "      <th>2</th>\n",
       "      <td>2022-10-31 09:26:51</td>\n",
       "      <td>{'id': 32912428, 'body': 'Thanks for your feed...</td>\n",
       "      <td>When resizing the window of Slack, the changes...</td>\n",
       "      <td>3</td>\n",
       "      <td>False</td>\n",
       "      <td>dacloo</td>\n",
       "      <td>Does not work well with iPadOS 16</td>\n",
       "    </tr>\n",
       "    <tr>\n",
       "      <th>3</th>\n",
       "      <td>2021-06-16 23:48:53</td>\n",
       "      <td>NaN</td>\n",
       "      <td>I love slack. I started using slack in January...</td>\n",
       "      <td>5</td>\n",
       "      <td>False</td>\n",
       "      <td>AnC.Really?!</td>\n",
       "      <td>Workplace Communications</td>\n",
       "    </tr>\n",
       "    <tr>\n",
       "      <th>4</th>\n",
       "      <td>2022-08-05 01:50:27</td>\n",
       "      <td>{'id': 31278707, 'body': 'Hi there, We’d be in...</td>\n",
       "      <td>Post-acquisition the Slack iOS app has taken s...</td>\n",
       "      <td>2</td>\n",
       "      <td>True</td>\n",
       "      <td>Just Your Usual Reviewer</td>\n",
       "      <td>Getting worse and worse</td>\n",
       "    </tr>\n",
       "  </tbody>\n",
       "</table>\n",
       "</div>"
      ],
      "text/plain": [
       "                 date                                  developerResponse  \\\n",
       "0 2021-11-19 15:37:47  {'id': 26382584, 'body': 'Hey there, thank you...   \n",
       "1 2022-04-14 14:50:10                                                NaN   \n",
       "2 2022-10-31 09:26:51  {'id': 32912428, 'body': 'Thanks for your feed...   \n",
       "3 2021-06-16 23:48:53                                                NaN   \n",
       "4 2022-08-05 01:50:27  {'id': 31278707, 'body': 'Hi there, We’d be in...   \n",
       "\n",
       "                                              review  rating  isEdited  \\\n",
       "0  The app is easy to learn and has become an int...       4     False   \n",
       "1  The recent iPad App update misses the mark qui...       2     False   \n",
       "2  When resizing the window of Slack, the changes...       3     False   \n",
       "3  I love slack. I started using slack in January...       5     False   \n",
       "4  Post-acquisition the Slack iOS app has taken s...       2      True   \n",
       "\n",
       "                   userName                                      title  \n",
       "0               Hippiegal23              A few months in. Mostly good.  \n",
       "1                 RufHaus71  One Step Forward, Two Steps Back for iPad  \n",
       "2                    dacloo          Does not work well with iPadOS 16  \n",
       "3              AnC.Really?!                   Workplace Communications  \n",
       "4  Just Your Usual Reviewer                    Getting worse and worse  "
      ]
     },
     "execution_count": 19,
     "metadata": {},
     "output_type": "execute_result"
    }
   ],
   "source": [
    "slackdf = pd.DataFrame(np.array(slack.reviews),columns=['review'])\n",
    "slackdf2 = slackdf.join(pd.DataFrame(slackdf.pop('review').tolist()))\n",
    "slackdf2.head()"
   ]
  },
  {
   "cell_type": "markdown",
   "id": "7f3e19fa-0621-428b-9ec3-b22a64deb992",
   "metadata": {},
   "source": [
    "## Using Google Search API"
   ]
  },
  {
   "cell_type": "code",
   "execution_count": 2,
   "id": "8ab1b0b8-57e6-44af-9c65-61115ecb8232",
   "metadata": {},
   "outputs": [
    {
     "name": "stdout",
     "output_type": "stream",
     "text": [
      "6fa6456459ea3414f9aa487e321b06e580aaf1414b30cb068f328e0d4f75273b\n"
     ]
    }
   ],
   "source": [
    "serp_api_key = os.environ['SERP_API_KEY']\n",
    "print(serp_api_key)"
   ]
  },
  {
   "cell_type": "code",
   "execution_count": 6,
   "id": "e6eb446a-bf78-47d1-856e-8a7fe90ca545",
   "metadata": {},
   "outputs": [],
   "source": [
    "search_terms = ['diabetes']\n",
    "engines = ['apple_app_store', 'google_play']\n",
    "countries = ['de']\n",
    "languages = ['de-de']\n",
    "num = 20"
   ]
  },
  {
   "cell_type": "code",
   "execution_count": null,
   "id": "ab764017-0691-4a29-a011-3f256ad8a65d",
   "metadata": {},
   "outputs": [],
   "source": [
    "params_list = []\n",
    "\n",
    "for term in search_terms:\n",
    "    "
   ]
  },
  {
   "cell_type": "code",
   "execution_count": 3,
   "id": "3901cb5f-4993-47c1-8119-2195ea27337f",
   "metadata": {},
   "outputs": [],
   "source": [
    "params = {\n",
    "    'api_key': serp_api_key,        # https://serpapi.com/manage-api-key\n",
    "    'engine': 'apple_app_store',    # SerpApi search engine\t\n",
    "    'term': 'diabetes',         # search query\n",
    "    'device': 'desktop',            # device to get the results\n",
    "    'country': 'de',                # country for the search\n",
    "    'lang': 'de-de',                # language for the search\n",
    "    'disallow_explicit': False,     # disallowing explicit apps\n",
    "    'num': 20,                      # number of items per page\n",
    "    'page': 0,                      # pagination\n",
    "    # 'property': 'developer'       # developer of an app\n",
    "}"
   ]
  },
  {
   "cell_type": "code",
   "execution_count": 4,
   "id": "4be90cb1-cd18-46a5-8931-09393ad062a2",
   "metadata": {},
   "outputs": [],
   "source": [
    "client = serpapi.Client(api_key=serp_api_key)\n",
    "app_store_results = []\n",
    "\n",
    "while True:\n",
    "    search = client.search(params)\n",
    "    new_page_results = search.as_dict()     # JSON -> Python dict\n",
    "    \n",
    "    app_store_results.extend(new_page_results['organic_results'])\n",
    "\n",
    "    if 'next' in new_page_results.get('serpapi_pagination', {}):\n",
    "        params['page'] += 1\n",
    "    else:\n",
    "        break"
   ]
  },
  {
   "cell_type": "code",
   "execution_count": 5,
   "id": "ccbcce09-58c5-46b8-aecd-ed6a9889d757",
   "metadata": {},
   "outputs": [],
   "source": [
    "#print(json.dumps(app_store_results, indent=4, ensure_ascii=False))\n",
    "output_fp = './appstore_results.json'\n",
    "with open(output_fp, 'w') as f:\n",
    "    f.write(json.dumps(app_store_results, indent=4, ensure_ascii=False))"
   ]
  },
  {
   "cell_type": "code",
   "execution_count": null,
   "id": "35b0b603-3ada-4fa7-9efb-1e152276a10e",
   "metadata": {},
   "outputs": [],
   "source": []
  }
 ],
 "metadata": {
  "kernelspec": {
   "display_name": "app_scraper",
   "language": "python",
   "name": "app_scraper"
  },
  "language_info": {
   "codemirror_mode": {
    "name": "ipython",
    "version": 3
   },
   "file_extension": ".py",
   "mimetype": "text/x-python",
   "name": "python",
   "nbconvert_exporter": "python",
   "pygments_lexer": "ipython3",
   "version": "3.10.12"
  }
 },
 "nbformat": 4,
 "nbformat_minor": 5
}
