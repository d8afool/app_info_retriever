{
 "cells": [
  {
   "cell_type": "code",
   "execution_count": 16,
   "id": "5f2fe98e-6383-4ea5-bfa9-b3ffd3adbf91",
   "metadata": {},
   "outputs": [],
   "source": [
    "import time\n",
    "\n",
    "from selenium import webdriver\n",
    "from selenium.webdriver.chrome.options import Options\n",
    "from selenium.webdriver.common.by import By\n",
    "import pandas as pd"
   ]
  },
  {
   "cell_type": "code",
   "execution_count": 32,
   "id": "6daaea38-5ba2-46f8-a3f0-a67cec3cd0b4",
   "metadata": {},
   "outputs": [],
   "source": [
    "search_query = 'Diabetes'#'COPD'\n",
    "language = 'de'\n",
    "country = 'de'"
   ]
  },
  {
   "cell_type": "code",
   "execution_count": 33,
   "id": "4db2beda-f48c-4c37-baaf-41a12ae83d0f",
   "metadata": {},
   "outputs": [],
   "source": [
    "chrome_options = Options()\n",
    "chrome_options.add_argument(\"--headless=new\")\n",
    "\n",
    "driver = webdriver.Chrome(options=chrome_options)\n",
    "start_url = f'https://play.google.com/store/search?q={search_query}&c=apps&hl={language}&gl={country}'\n",
    "driver.get(start_url)"
   ]
  },
  {
   "cell_type": "code",
   "execution_count": 34,
   "id": "fe6f5b94-1cec-4926-9d87-712dbf1493af",
   "metadata": {},
   "outputs": [],
   "source": [
    "SCROLL_PAUSE_TIME = 5\n",
    " \n",
    "# Get scroll height\n",
    "last_height = driver.execute_script(\"return document.body.scrollHeight\")\n",
    "time.sleep(SCROLL_PAUSE_TIME)\n",
    " \n",
    "while True:\n",
    "    # Scroll down to bottom\n",
    "    driver.execute_script(\"window.scrollTo(0, document.body.scrollHeight);\")\n",
    " \n",
    "    # Wait to load page\n",
    "    time.sleep(SCROLL_PAUSE_TIME)\n",
    " \n",
    "    # Calculate new scroll height and compare with last scroll height\n",
    "    new_height = driver.execute_script(\"return document.body.scrollHeight\")\n",
    "    if new_height == last_height:\n",
    "        break\n",
    "    last_height = new_height"
   ]
  },
  {
   "cell_type": "code",
   "execution_count": 35,
   "id": "4a887569-e465-482f-83f6-3833adf0c342",
   "metadata": {},
   "outputs": [
    {
     "name": "stdout",
     "output_type": "stream",
     "text": [
      "30 apps found\n"
     ]
    }
   ],
   "source": [
    "links_apps = []\n",
    "elems = driver.find_elements(By.XPATH, \"//a[@href]\")\n",
    "for elem in elems:\n",
    "    if \"details?id\" in elem.get_attribute(\"href\"):\n",
    "        links_apps.append((elem.get_attribute(\"href\")))\n",
    "        \n",
    "links_apps = list(dict.fromkeys(links_apps))\n",
    "print(f'{len(links_apps)} apps found')"
   ]
  },
  {
   "cell_type": "code",
   "execution_count": 36,
   "id": "cd834588-f9cf-4c5e-bd52-394e4a2223ed",
   "metadata": {},
   "outputs": [
    {
     "name": "stdout",
     "output_type": "stream",
     "text": [
      "https://play.google.com/store/apps/details?id=com.mysugr.android.companion\n",
      "https://play.google.com/store/apps/details?id=de.wetid\n",
      "https://play.google.com/store/apps/details?id=com.diabtrend\n",
      "https://play.google.com/store/apps/details?id=com.mydiabetes\n",
      "https://play.google.com/store/apps/details?id=com.fourtechnologies.mynetdiary.diabetes\n",
      "https://play.google.com/store/apps/details?id=com.hedia_diabetes_assistant\n",
      "https://play.google.com/store/apps/details?id=diet.mydiabetes\n",
      "https://play.google.com/store/apps/details?id=com.gluroo.app\n",
      "https://play.google.com/store/apps/details?id=com.insulclock.insulclockAndroid\n",
      "https://play.google.com/store/apps/details?id=melstudio.msugar\n",
      "https://play.google.com/store/apps/details?id=com.creamsoft.mygi\n",
      "https://play.google.com/store/apps/details?id=gr.tessera.fordiabetesapp\n",
      "https://play.google.com/store/apps/details?id=com.medm.medmbg.diary\n",
      "https://play.google.com/store/apps/details?id=com.squaremed.diabetesconnect.android\n",
      "https://play.google.com/store/apps/details?id=com.sproutel.rufus\n",
      "https://play.google.com/store/apps/details?id=com.riatech.diabeticrecipes\n",
      "https://play.google.com/store/apps/details?id=sg.wisehealth.diabetes\n",
      "https://play.google.com/store/apps/details?id=com.ascensia.contour.de\n",
      "https://play.google.com/store/apps/details?id=com.defeatdiabetes.app\n",
      "https://play.google.com/store/apps/details?id=de.perfood.diabetes\n",
      "https://play.google.com/store/apps/details?id=com.faltenreich.diaguard\n",
      "https://play.google.com/store/apps/details?id=com.medtronic.diabetes.fota\n",
      "https://play.google.com/store/apps/details?id=de.vidagesund.app\n",
      "https://play.google.com/store/apps/details?id=com.ikdong.recipe.b07zj88kh3\n",
      "https://play.google.com/store/apps/details?id=com.bd.dh.dcapp\n",
      "https://play.google.com/store/apps/details?id=io.snaq.app\n",
      "https://play.google.com/store/apps/details?id=com.rfit.glycemicindextracker\n",
      "https://play.google.com/store/apps/details?id=com.socialdiabetes.android\n",
      "https://play.google.com/store/apps/details?id=com.glooko.logbook\n",
      "https://play.google.com/store/apps/details?id=com.mightybell.beyondtype1\n"
     ]
    }
   ],
   "source": [
    "list_all_elements = []\n",
    "for iteration in links_apps:\n",
    "    try:\n",
    "        driver.get(iteration)\n",
    "        print(iteration)\n",
    "        time.sleep(3)\n",
    " \n",
    "        header1 = driver.find_element(By.TAG_NAME, \"h1\")\n",
    "        try:\n",
    "            star = driver.find_element(By.CLASS_NAME, \"TT9eCd\")\n",
    "        except:\n",
    "            star = None\n",
    " \n",
    " \n",
    "        others = driver.find_elements(By.CLASS_NAME, \"htlgb\")\n",
    "        list_others = []\n",
    "        for x in range (len(others)):\n",
    "            if x % 2 == 0:\n",
    "                list_others.append(others[x].text)\n",
    " \n",
    "        titles = driver.find_elements(By.CLASS_NAME, \"BgcNfc\")\n",
    "        #comments = driver.find_element(By.CLASS_NAME, \"EymY4b\")\n",
    " \n",
    "        list_elements = [iteration,header1.text, None if not star else float(star.text.replace(\",\",\".\").rstrip('\\nstar'))]#, comments.text.split()[0]]\n",
    "        for x in range (len(titles)):\n",
    "            if titles[x].text == \"Downloads\":\n",
    "                list_elements.append(list_others[x])\n",
    "            if titles[x].text == \"Developers\":\n",
    "                for y in list_others[x].split(\"\\n\"):\n",
    "                    if \"@\" in y:\n",
    "                        list_elements.append(y)\n",
    "                        break\n",
    " \n",
    "        list_all_elements.append(list_elements)\n",
    "    except Exception as e:\n",
    "        print(e)"
   ]
  },
  {
   "cell_type": "code",
   "execution_count": 37,
   "id": "1600a675-64e5-45b2-a1d8-9547ca7b3fc6",
   "metadata": {},
   "outputs": [],
   "source": [
    "driver.quit()"
   ]
  },
  {
   "cell_type": "code",
   "execution_count": 40,
   "id": "653043df-801a-43b9-84a8-11ad075a4218",
   "metadata": {},
   "outputs": [],
   "source": [
    "df = pd.DataFrame(list_all_elements,columns=['URL', 'Name', 'Stars'])#, 'Downloads', 'Email Address'])\n",
    "df.to_excel(f'google_playstore.{search_query}.xlsx', header = True, index=False) "
   ]
  },
  {
   "cell_type": "code",
   "execution_count": 39,
   "id": "31134e7f-b473-4480-8986-863a29fac78d",
   "metadata": {},
   "outputs": [
    {
     "data": {
      "text/html": [
       "<div>\n",
       "<style scoped>\n",
       "    .dataframe tbody tr th:only-of-type {\n",
       "        vertical-align: middle;\n",
       "    }\n",
       "\n",
       "    .dataframe tbody tr th {\n",
       "        vertical-align: top;\n",
       "    }\n",
       "\n",
       "    .dataframe thead th {\n",
       "        text-align: right;\n",
       "    }\n",
       "</style>\n",
       "<table border=\"1\" class=\"dataframe\">\n",
       "  <thead>\n",
       "    <tr style=\"text-align: right;\">\n",
       "      <th></th>\n",
       "      <th>URL</th>\n",
       "      <th>Name</th>\n",
       "      <th>Stars</th>\n",
       "    </tr>\n",
       "  </thead>\n",
       "  <tbody>\n",
       "    <tr>\n",
       "      <th>0</th>\n",
       "      <td>https://play.google.com/store/apps/details?id=...</td>\n",
       "      <td>mySugr - Diabetes Tracker Log</td>\n",
       "      <td>4.5</td>\n",
       "    </tr>\n",
       "    <tr>\n",
       "      <th>1</th>\n",
       "      <td>https://play.google.com/store/apps/details?id=...</td>\n",
       "      <td>WETID - Diabetes Suchmaschine</td>\n",
       "      <td>4.7</td>\n",
       "    </tr>\n",
       "    <tr>\n",
       "      <th>2</th>\n",
       "      <td>https://play.google.com/store/apps/details?id=...</td>\n",
       "      <td>DiabTrend - Diabetes Diary App</td>\n",
       "      <td>4.1</td>\n",
       "    </tr>\n",
       "    <tr>\n",
       "      <th>3</th>\n",
       "      <td>https://play.google.com/store/apps/details?id=...</td>\n",
       "      <td>Diabetes:M - Blood Sugar Diary</td>\n",
       "      <td>3.9</td>\n",
       "    </tr>\n",
       "    <tr>\n",
       "      <th>4</th>\n",
       "      <td>https://play.google.com/store/apps/details?id=...</td>\n",
       "      <td>Diabetes &amp; Diet Tracker</td>\n",
       "      <td>NaN</td>\n",
       "    </tr>\n",
       "    <tr>\n",
       "      <th>5</th>\n",
       "      <td>https://play.google.com/store/apps/details?id=...</td>\n",
       "      <td>Hedia Diabetes Assistant</td>\n",
       "      <td>3.1</td>\n",
       "    </tr>\n",
       "    <tr>\n",
       "      <th>6</th>\n",
       "      <td>https://play.google.com/store/apps/details?id=...</td>\n",
       "      <td>Klinio: Diabetic meal plan</td>\n",
       "      <td>3.2</td>\n",
       "    </tr>\n",
       "    <tr>\n",
       "      <th>7</th>\n",
       "      <td>https://play.google.com/store/apps/details?id=...</td>\n",
       "      <td>Gluroo: Diabetes Tracker</td>\n",
       "      <td>NaN</td>\n",
       "    </tr>\n",
       "    <tr>\n",
       "      <th>8</th>\n",
       "      <td>https://play.google.com/store/apps/details?id=...</td>\n",
       "      <td>Diabetes Care Insulclock</td>\n",
       "      <td>NaN</td>\n",
       "    </tr>\n",
       "    <tr>\n",
       "      <th>9</th>\n",
       "      <td>https://play.google.com/store/apps/details?id=...</td>\n",
       "      <td>Glucose tracker－Diabetic diary</td>\n",
       "      <td>4.3</td>\n",
       "    </tr>\n",
       "  </tbody>\n",
       "</table>\n",
       "</div>"
      ],
      "text/plain": [
       "                                                 URL  \\\n",
       "0  https://play.google.com/store/apps/details?id=...   \n",
       "1  https://play.google.com/store/apps/details?id=...   \n",
       "2  https://play.google.com/store/apps/details?id=...   \n",
       "3  https://play.google.com/store/apps/details?id=...   \n",
       "4  https://play.google.com/store/apps/details?id=...   \n",
       "5  https://play.google.com/store/apps/details?id=...   \n",
       "6  https://play.google.com/store/apps/details?id=...   \n",
       "7  https://play.google.com/store/apps/details?id=...   \n",
       "8  https://play.google.com/store/apps/details?id=...   \n",
       "9  https://play.google.com/store/apps/details?id=...   \n",
       "\n",
       "                             Name  Stars  \n",
       "0   mySugr - Diabetes Tracker Log    4.5  \n",
       "1   WETID - Diabetes Suchmaschine    4.7  \n",
       "2  DiabTrend - Diabetes Diary App    4.1  \n",
       "3  Diabetes:M - Blood Sugar Diary    3.9  \n",
       "4         Diabetes & Diet Tracker    NaN  \n",
       "5        Hedia Diabetes Assistant    3.1  \n",
       "6      Klinio: Diabetic meal plan    3.2  \n",
       "7        Gluroo: Diabetes Tracker    NaN  \n",
       "8        Diabetes Care Insulclock    NaN  \n",
       "9  Glucose tracker－Diabetic diary    4.3  "
      ]
     },
     "execution_count": 39,
     "metadata": {},
     "output_type": "execute_result"
    }
   ],
   "source": [
    "df.head(10)"
   ]
  },
  {
   "cell_type": "code",
   "execution_count": null,
   "id": "c97c2559-78b4-46f0-87cd-144c07a448f8",
   "metadata": {},
   "outputs": [],
   "source": []
  }
 ],
 "metadata": {
  "kernelspec": {
   "display_name": "app_scraper",
   "language": "python",
   "name": "app_scraper"
  },
  "language_info": {
   "codemirror_mode": {
    "name": "ipython",
    "version": 3
   },
   "file_extension": ".py",
   "mimetype": "text/x-python",
   "name": "python",
   "nbconvert_exporter": "python",
   "pygments_lexer": "ipython3",
   "version": "3.10.12"
  }
 },
 "nbformat": 4,
 "nbformat_minor": 5
}
