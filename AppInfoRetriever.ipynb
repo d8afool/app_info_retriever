{
 "cells": [
  {
   "cell_type": "markdown",
   "id": "e49f8422-cbcd-47ee-9c35-ae2e566f1eb7",
   "metadata": {},
   "source": [
    "# App Info Retriever\n",
    "\n",
    "This notebook allows collecting app info from Google Play Store and Apple App Store using SerpAPI. In order to get access to SerpApi, you must do the following:\n",
    "\n",
    "1. Register at https://serpapi.com/users/sign_up\n",
    "2. Retrieve your API key at https://serpapi.com/manage-api-key\n",
    "3. Save you API key to environment variables using  `export SERP_API_KEY=<your_key>` (or paste it in for the variable `serp_api_key` below)\n",
    "4. Install the serpapi Python package: `pip install serpapi`  \n",
    "5. Specify your search query and other search parameters according to your needs\n",
    "6. Run the notebook\n",
    "\n",
    "Results will be written as JSON files to the **data** directory. For each search query and app provider there will be a separate file."
   ]
  },
  {
   "cell_type": "code",
   "execution_count": 2,
   "id": "2615b29c-3aa5-4062-a51b-938320410aed",
   "metadata": {},
   "outputs": [],
   "source": [
    "import sys\n",
    "import os\n",
    "import json\n",
    "from datetime import datetime\n",
    "\n",
    "import serpapi"
   ]
  },
  {
   "cell_type": "markdown",
   "id": "7f3e19fa-0621-428b-9ec3-b22a64deb992",
   "metadata": {},
   "source": [
    "## Setup"
   ]
  },
  {
   "cell_type": "code",
   "execution_count": null,
   "id": "8ab1b0b8-57e6-44af-9c65-61115ecb8232",
   "metadata": {},
   "outputs": [],
   "source": [
    "serp_api_key = os.environ['SERP_API_KEY']\n",
    "print(f'Using SerpApi key {serp_api_key}')"
   ]
  },
  {
   "cell_type": "markdown",
   "id": "8716d400-9ab8-4b07-8f7c-baef9b925d5b",
   "metadata": {},
   "source": [
    "In the next cell fill in your desired search queries and change other parameters according to your needs."
   ]
  },
  {
   "cell_type": "code",
   "execution_count": 26,
   "id": "fb5dbe9c-1401-438f-a4c5-3b5b4926f0f8",
   "metadata": {},
   "outputs": [],
   "source": [
    "queries = ['query_1', 'query_2', '...']\n",
    "engines = ['apple_app_store', 'google_play']\n",
    "countries = ['de']\n",
    "languages = ['de-de']\n",
    "disallow_explicit = False\n",
    "max_pages = 50  # Maximum number of pages to be scraped (important for Google PlayStore due to infinity scroll functionality)"
   ]
  },
  {
   "cell_type": "markdown",
   "id": "163da3cc-a872-4062-a22b-725190a26310",
   "metadata": {},
   "source": [
    "### Helper functions"
   ]
  },
  {
   "cell_type": "code",
   "execution_count": 27,
   "id": "a9a857dd-1935-4a28-90d8-a85a045f9922",
   "metadata": {},
   "outputs": [],
   "source": [
    "def configure_params(query, engine, country, language, disallow_explicit=False, num=20, page=0):\n",
    "    params = {\n",
    "        'api_key': serp_api_key,       \n",
    "        'engine': engine,           \n",
    "        'device': 'mobile', \n",
    "        'country': country, \n",
    "        'lang': language, \n",
    "        'disallow_explicit': disallow_explicit,\n",
    "        'num': num,                  \n",
    "        'page': page,    \n",
    "        'q': query,    # Used for Google Play Store\n",
    "        'term': query  # Used for Apple App Store\n",
    "    }\n",
    "    return params\n",
    "\n",
    "def save_results(results, query, engine, timestamp):\n",
    "    output_fp = os.path.join('data', f'{engine}.{query}.{timestamp}.json')\n",
    "    with open(output_fp, 'w') as f:\n",
    "        f.write(json.dumps(results, indent=4, ensure_ascii=False))"
   ]
  },
  {
   "cell_type": "markdown",
   "id": "2d08ca28-2815-4d2d-a721-4d6081779091",
   "metadata": {},
   "source": [
    "## Run Scraper"
   ]
  },
  {
   "cell_type": "code",
   "execution_count": null,
   "id": "4be90cb1-cd18-46a5-8931-09393ad062a2",
   "metadata": {},
   "outputs": [],
   "source": [
    "client = serpapi.Client(api_key=serp_api_key)\n",
    "\n",
    "# Iterate over queries, engines, countries and languages\n",
    "for q in queries: \n",
    "    for e in engines:\n",
    "        for c in countries:\n",
    "            for l in languages:\n",
    "                print(f'Retrieving results for query={q}, engine={e}, country={c}, language={l}')\n",
    "                params = configure_params(query=q, engine=e, country=c, language=l)\n",
    "                results = []\n",
    "                page_idx = 1\n",
    "\n",
    "                # Iterate over pages until `max_page`\n",
    "                while page_idx <= max_pages:\n",
    "                    page_idx += 1\n",
    "                    print(f'Scraping page {params[\"page\"]}...')\n",
    "                    search = client.search(params)\n",
    "                    new_page_results = search.as_dict()     # JSON -> Python dict                    \n",
    "                    results.extend(new_page_results['organic_results'])\n",
    "                \n",
    "                    if 'next' in new_page_results.get('serpapi_pagination', {}):\n",
    "                        params['page'] += 1\n",
    "                    else:\n",
    "                        break\n",
    "                print(f'Saving results...')\n",
    "                print('------------------')\n",
    "                save_results(results, query=q, engine=e, timestamp=datetime.now())\n",
    "print('Done.')"
   ]
  }
 ],
 "metadata": {
  "kernelspec": {
   "display_name": "app_info_scraper",
   "language": "python",
   "name": "app_info_scraper"
  },
  "language_info": {
   "codemirror_mode": {
    "name": "ipython",
    "version": 3
   },
   "file_extension": ".py",
   "mimetype": "text/x-python",
   "name": "python",
   "nbconvert_exporter": "python",
   "pygments_lexer": "ipython3",
   "version": "3.10.12"
  }
 },
 "nbformat": 4,
 "nbformat_minor": 5
}
